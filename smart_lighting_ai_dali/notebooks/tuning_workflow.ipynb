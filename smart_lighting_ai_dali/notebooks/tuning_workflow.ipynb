{
 "cells": [
  {
   "cell_type": "markdown",
   "metadata": {},
   "source": [
    "# Tuning Workflow\n",
    "This notebook demonstrates how to extract compact feature windows and decisions for offline tuning and visualization."
   ]
  },
  {
   "cell_type": "code",
   "execution_count": null,
   "metadata": {},
   "outputs": [],
   "source": [
    "import pandas as pd\n",
    "from sqlalchemy import create_engine\n",
    "from smart_lighting_ai_dali.config import get_settings\n",
    "from smart_lighting_ai_dali.models import FeatureRow, Decision\n",
    "\n",
    "settings = get_settings()\n",
    "engine = create_engine(settings.db_url)\n",
    "with engine.connect() as conn:\n",
    "    feature_df = pd.read_sql(FeatureRow.__table__.select(), conn)\n",
    "    decision_df = pd.read_sql(Decision.__table__.select(), conn)\n",
    "\n",
    "feature_df.tail()"
   ]
  },
  {
   "cell_type": "code",
   "execution_count": null,
   "metadata": {},
   "outputs": [],
   "source": [
    "merged = feature_df.merge(decision_df, left_on='id', right_on='feature_row_id', how='left', suffixes=('_feature', '_decision'))\n",
    "merged['energy_saving_estimate'].fillna((100 - merged['intensity'].fillna(100)) / 100, inplace=True)\n",
    "merged[['window_end', 'ambient_lux_mean', 'occupancy_rate', 'intensity', 'cct', 'energy_saving_estimate']].tail()"
   ]
  },
  {
   "cell_type": "code",
   "execution_count": null,
   "metadata": {},
   "outputs": [],
   "source": [
    "%matplotlib inline\n",
    "ax = merged.plot(x='window_end', y='energy_saving_estimate', title='Energy Saving Estimate Over Time')\n",
    "ax.set_ylabel('Energy Saving (fraction)')"
   ]
  }
 ],
 "metadata": {
  "kernelspec": {
   "display_name": "Python 3",
   "language": "python",
   "name": "python3"
  },
  "language_info": {
   "name": "python",
   "version": "3.11"
  }
 },
 "nbformat": 4,
 "nbformat_minor": 2
}
